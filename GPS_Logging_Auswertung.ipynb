{
  "nbformat": 4,
  "nbformat_minor": 0,
  "metadata": {
    "colab": {
      "name": "GPS Logging Auswertung.ipynb",
      "provenance": [],
      "collapsed_sections": [],
      "include_colab_link": true
    },
    "kernelspec": {
      "name": "python3",
      "display_name": "Python 3"
    }
  },
  "cells": [
    {
      "cell_type": "markdown",
      "metadata": {
        "id": "view-in-github",
        "colab_type": "text"
      },
      "source": [
        "<a href=\"https://colab.research.google.com/github/MxFxM/ColabCodes/blob/master/GPS_Logging_Auswertung.ipynb\" target=\"_parent\"><img src=\"https://colab.research.google.com/assets/colab-badge.svg\" alt=\"Open In Colab\"/></a>"
      ]
    },
    {
      "cell_type": "markdown",
      "metadata": {
        "id": "ecFkqCT2jK1S",
        "colab_type": "text"
      },
      "source": [
        "Mount drive and test for success"
      ]
    },
    {
      "cell_type": "code",
      "metadata": {
        "id": "IaxJ8bS2euBI",
        "colab_type": "code",
        "outputId": "330ca858-8b23-4e68-8b22-9bca049d7312",
        "colab": {
          "base_uri": "https://localhost:8080/",
          "height": 139
        }
      },
      "source": [
        "from google.colab import drive\n",
        "drive.mount('/content/gdrive')\n",
        "\n",
        "with open(f\"/content/gdrive/My Drive/GPSLogger for Android/gpslogger_test.xml\", \"r\") as json_file:\n",
        "    for line in json_file:\n",
        "        print(line)\n",
        "        break"
      ],
      "execution_count": 0,
      "outputs": [
        {
          "output_type": "stream",
          "text": [
            "Go to this URL in a browser: https://accounts.google.com/o/oauth2/auth?client_id=947318989803-6bn6qk8qdgf4n4g3pfee6491hc0brc4i.apps.googleusercontent.com&redirect_uri=urn%3Aietf%3Awg%3Aoauth%3A2.0%3Aoob&scope=email%20https%3A%2F%2Fwww.googleapis.com%2Fauth%2Fdocs.test%20https%3A%2F%2Fwww.googleapis.com%2Fauth%2Fdrive%20https%3A%2F%2Fwww.googleapis.com%2Fauth%2Fdrive.photos.readonly%20https%3A%2F%2Fwww.googleapis.com%2Fauth%2Fpeopleapi.readonly&response_type=code\n",
            "\n",
            "Enter your authorization code:\n",
            "··········\n",
            "Mounted at /content/gdrive\n",
            "<x>This is a test file</x>\n"
          ],
          "name": "stdout"
        }
      ]
    },
    {
      "cell_type": "markdown",
      "metadata": {
        "id": "Af24JSNvjPm6",
        "colab_type": "text"
      },
      "source": [
        "Populate databank with ?new? data.\n",
        "To confirm that it is indeed new data, please check the date before running. The code should however, not create double entries."
      ]
    },
    {
      "cell_type": "code",
      "metadata": {
        "id": "SLJyoQ1PrONt",
        "colab_type": "code",
        "outputId": "f0d1f089-481c-4209-9b5b-5d79f3128d26",
        "colab": {
          "base_uri": "https://localhost:8080/",
          "height": 54
        }
      },
      "source": [
        "FILE_DATES = [n for n in range(20190706, 20190732)]\n",
        "print(FILE_DATES)"
      ],
      "execution_count": 0,
      "outputs": [
        {
          "output_type": "stream",
          "text": [
            "[20190706, 20190707, 20190708, 20190709, 20190710, 20190711, 20190712, 20190713, 20190714, 20190715, 20190716, 20190717, 20190718, 20190719, 20190720, 20190721, 20190722, 20190723, 20190724, 20190725, 20190726, 20190727, 20190728, 20190729, 20190730, 20190731]\n"
          ],
          "name": "stdout"
        }
      ]
    },
    {
      "cell_type": "code",
      "metadata": {
        "id": "0ZvwUaZDhfbI",
        "colab_type": "code",
        "outputId": "685c67db-7e54-4bf7-d692-6c8e755d3e0e",
        "colab": {
          "base_uri": "https://localhost:8080/",
          "height": 68
        }
      },
      "source": [
        "import json\n",
        "from datetime import datetime\n",
        "import time\n",
        "import sqlite3\n",
        "\n",
        "GEOJSON_DATE_FORMAT = \"%Y-%m-%dT%H:%M:%S.%fZ\"\n",
        "FILE_DATES = [n for n in range(20190706, 20190732)]\n",
        "# last date was 2019 07 31\n",
        "\n",
        "sql_transaction = []\n",
        "DATABANK_PATH = \"/content/gdrive/My Drive/GPSLogger for Android/gpslogs.db\"\n",
        "connection = sqlite3.connect(DATABANK_PATH)\n",
        "c = connection.cursor()\n",
        "\n",
        "def create_table():\n",
        "    c.execute(\"CREATE TABLE IF NOT EXISTS gpslogs(time_long INT PRIMARY KEY UNIQUE, year INT, month INT, day INT, hour INT, minute INT, second REAL, accuracy REAL, altitude REAL, bearing REAL, speed REAL, latitude REAL, longitude REAL)\")\n",
        "\n",
        "def transaction_bldr(sql, write=False):\n",
        "    global sql_transaction\n",
        "    if not write:\n",
        "        sql_transaction.append(sql)\n",
        "    if write:\n",
        "        c.execute('BEGIN TRANSACTION')\n",
        "        for s in sql_transaction:\n",
        "            try:\n",
        "                c.execute(s)\n",
        "            except Exception as e:\n",
        "                print(f\"Error during writing: {e}\")\n",
        "        connection.commit()\n",
        "        sql_transaction = []\n",
        "\n",
        "def sql_insert(tl, ye, mo, da, ho, mi, se, ac, al, be, sp, la, lo):\n",
        "    try:\n",
        "        sql=f\"INSERT INTO gpslogs (time_long, year, month, day, hour, minute, second, accuracy, altitude, bearing, speed, latitude, longitude) VALUES ({int(tl)}, {int(ye)}, {int(mo)}, {int(da)}, {int(ho)}, {int(mi)}, {float(se)}, {float(ac)}, {float(al)}, {float(be)}, {float(sp)}, {float(la)}, {float(lo)});\"\n",
        "        transaction_bldr(sql)\n",
        "    except Exception as e:\n",
        "        print(f\"Error on inserting: {e}\")\n",
        "\n",
        "# DEBUG variables, not strictly necessary\n",
        "printfirst = True\n",
        "lensum = 0\n",
        "starttime = time.time()\n",
        "\n",
        "create_table()\n",
        "\n",
        "for FILE_DATE in FILE_DATES:\n",
        "    with open(f\"/content/gdrive/My Drive/GPSLogger for Android/{FILE_DATE}.geojson\", \"r\") as json_file:\n",
        "        data = json.load(json_file)\n",
        "        for feature in data['features']:\n",
        "            # one feature corresponds to one measurement\n",
        "            if 'properties' in feature:\n",
        "                properties = feature['properties']\n",
        "                if 'provider' in properties:\n",
        "                    pr = properties['provider']\n",
        "                else:\n",
        "                    pr = \"None\"\n",
        "                if 'time_long' in properties:\n",
        "                    tl = properties['time_long']\n",
        "                else:\n",
        "                    break # time is crucial\n",
        "                if 'accuracy' in properties:\n",
        "                    ac = properties['accuracy']\n",
        "                else:\n",
        "                    ac = 100.0\n",
        "                if 'altitude' in properties:\n",
        "                    al = properties['altitude']\n",
        "                else:\n",
        "                    break # position is crucial\n",
        "                if 'bearing' in properties:\n",
        "                    be = properties['bearing']\n",
        "                else:\n",
        "                    be = 0.0\n",
        "                if 'speed' in properties:\n",
        "                    sp = properties['speed']\n",
        "                else:\n",
        "                    sp = 0.0\n",
        "\n",
        "                if 'time' in properties:\n",
        "                    datetime = datetime.strptime(properties['time'], GEOJSON_DATE_FORMAT)\n",
        "                    ye = datetime.year\n",
        "                    mo = datetime.month\n",
        "                    da = datetime.day\n",
        "                    ho = datetime.hour\n",
        "                    mi = datetime.minute\n",
        "                    se = datetime.second\n",
        "                else:\n",
        "                    break # time is crucial\n",
        "                \n",
        "            if 'geometry' in feature:\n",
        "                geometry = feature['geometry']\n",
        "                if 'coordinates' in geometry:\n",
        "                    la = geometry['coordinates'][1]\n",
        "                    lo = geometry['coordinates'][0]\n",
        "                else:\n",
        "                    break # position is crucial\n",
        "\n",
        "            \"\"\"\n",
        "            if printfirst:\n",
        "                printfirst = False\n",
        "                print(feature)\n",
        "                print(f\"Time: {datetime}\")\n",
        "                print(f\"Year: {datetime.year}\")\n",
        "                print(f\"Month: {datetime.month}\")\n",
        "                print(f\"Day: {datetime.day}\")\n",
        "                print(f\"Hour: {datetime.hour}\")\n",
        "                print(f\"Minute: {datetime.minute}\")\n",
        "                print(f\"Second: {datetime.second}\")\n",
        "                print(f\"Provider: {properties['provider']}\")\n",
        "                print(f\"Time (long): {properties['time_long']}\")\n",
        "                print(f\"Accuracy: {properties['accuracy']}\")\n",
        "                print(f\"Altitude: {properties['altitude']}\")\n",
        "                print(f\"Bearing: {properties['bearing']}\")\n",
        "                print(f\"Speed: {properties['speed']}\")\n",
        "                print(f\"Latitude: {geometry['coordinates'][1]}\")\n",
        "                print(f\"Longitude: {geometry['coordinates'][0]}\")\n",
        "            \"\"\"\n",
        "            \n",
        "            sql_insert(tl, ye, mo, da, ho, mi, se, ac, al, be, sp, la, lo)\n",
        "            \n",
        "            \"\"\"\n",
        "            sql_insert(properties['time_long'],\n",
        "                       datetime.year,\n",
        "                       datetime.month,\n",
        "                       datetime.day,\n",
        "                       datetime.hour,\n",
        "                       datetime.minute,\n",
        "                       datetime.second,\n",
        "                       properties['accuracy'],\n",
        "                       properties['altitude'],\n",
        "                       properties['bearing'],\n",
        "                       properties['speed'],\n",
        "                       geometry['coordinates'][1],\n",
        "                       geometry['coordinates'][0])\n",
        "            \"\"\"\n",
        "\n",
        "        transaction_bldr(\"\", write=True)\n",
        "        lensum = lensum + len(data['features'])\n",
        "\n",
        "connection.close()\n",
        "        \n",
        "print()\n",
        "print(f\"Processed {lensum} data structures from {len(FILE_DATES)} file(s)\")\n",
        "print(f\"Processing took {time.time() - starttime} seconds\")"
      ],
      "execution_count": 0,
      "outputs": [
        {
          "output_type": "stream",
          "text": [
            "\n",
            "Processed 2851 data structures from 26 file(s)\n",
            "Processing took 9.637007236480713 seconds\n"
          ],
          "name": "stdout"
        }
      ]
    }
  ]
}