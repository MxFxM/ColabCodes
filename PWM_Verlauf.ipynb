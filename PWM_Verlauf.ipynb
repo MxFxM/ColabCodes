{
  "nbformat": 4,
  "nbformat_minor": 0,
  "metadata": {
    "colab": {
      "name": "PWM_Verlauf.ipynb",
      "provenance": [],
      "collapsed_sections": [],
      "include_colab_link": true
    },
    "kernelspec": {
      "name": "python3",
      "display_name": "Python 3"
    }
  },
  "cells": [
    {
      "cell_type": "markdown",
      "metadata": {
        "id": "view-in-github",
        "colab_type": "text"
      },
      "source": [
        "<a href=\"https://colab.research.google.com/github/MxFxM/ColabCodes/blob/master/PWM_Verlauf.ipynb\" target=\"_parent\"><img src=\"https://colab.research.google.com/assets/colab-badge.svg\" alt=\"Open In Colab\"/></a>"
      ]
    },
    {
      "cell_type": "code",
      "metadata": {
        "id": "woDnhHRH46Xx",
        "colab_type": "code",
        "outputId": "aab56521-3752-4e84-e1be-68e9d7d65296",
        "colab": {
          "base_uri": "https://localhost:8080/",
          "height": 269
        }
      },
      "source": [
        "start = 255\n",
        "\n",
        "\n",
        "val = start\n",
        "vals = [val]\n",
        "\n",
        "while val != 0:\n",
        "    if val < 50:\n",
        "        val = 0\n",
        "    val = val - int(val/8)\n",
        "    vals.append(val)\n",
        "\n",
        "import matplotlib.pyplot as plt\n",
        "plt.plot(vals)\n",
        "plt.show()"
      ],
      "execution_count": 0,
      "outputs": [
        {
          "output_type": "display_data",
          "data": {
            "image/png": "[encoded data removed]",
            "text/plain": [
              "<Figure size 432x288 with 1 Axes>"
            ]
          },
          "metadata": {
            "tags": []
          }
        }
      ]
    }
  ]
}