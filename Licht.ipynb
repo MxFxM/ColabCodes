{
  "nbformat": 4,
  "nbformat_minor": 0,
  "metadata": {
    "colab": {
      "name": "Licht.ipynb",
      "provenance": [],
      "private_outputs": true,
      "collapsed_sections": [],
      "include_colab_link": true
    },
    "kernelspec": {
      "name": "python3",
      "display_name": "Python 3"
    }
  },
  "cells": [
    {
      "cell_type": "markdown",
      "metadata": {
        "id": "view-in-github",
        "colab_type": "text"
      },
      "source": [
        "<a href=\"https://colab.research.google.com/github/MxFxM/ColabCodes/blob/master/Licht.ipynb\" target=\"_parent\"><img src=\"https://colab.research.google.com/assets/colab-badge.svg\" alt=\"Open In Colab\"/></a>"
      ]
    },
    {
      "cell_type": "code",
      "metadata": {
        "id": "CPhHfnbrA52c",
        "colab_type": "code",
        "colab": {}
      },
      "source": [
        "#@title PWM Signale\n",
        "\n",
        "leds = [0 for _ in range(34)]\n",
        "\n",
        "startmuster = [[25, 50, 75, 100], [100, 75, 50, 25], [100]]\n",
        "effekte_buffer = [] # effekt, start, stop, geschw, richtung, schritt\n",
        "\n",
        "# muster starten\n",
        "def start_muster(muster_nr, start_led, stop_led):\n",
        "    global leds\n",
        "    global effekte_buffer\n",
        "    buf = startmuster[muster_nr] # lade muster\n",
        "    if muster_nr == 0: # komet?\n",
        "        leds = leds[:start_led] + buf + [0 for _ in range((stop_led - start_led) - len(buf))] + leds[stop_led:]\n",
        "        effekte_buffer.append([\"schiebe\", start_led, stop_led, 1, 1, 0, stop_led-start_led-3]) # effekt beginnen\n",
        "    elif muster_nr == 1: # komet?\n",
        "        leds = leds[:start_led] + [0 for _ in range((stop_led - start_led) - len(buf))] + buf + leds[stop_led:]\n",
        "        effekte_buffer.append([\"schiebe\", start_led, stop_led, 1, 2, 0, stop_led-start_led-3]) # effekt beginnen\n",
        "    elif muster_nr == 2: # lauflicht nach rechts\n",
        "        leds = leds[:start_led] + buf + [0 for _ in range((stop_led - start_led) - len(buf))] + leds[stop_led:]\n",
        "        effekte_buffer.append([\"schiebe\", start_led, stop_led, 2, 1, 0, stop_led-start_led-3]) # effekt beginnen\n",
        "\n",
        "# effekte ausfuehren\n",
        "def effekte_ausfueren():\n",
        "    global leds\n",
        "    global effekte_buffer\n",
        "    finished = []\n",
        "    for n, effekt in enumerate(effekte_buffer):\n",
        "        buf = leds[effekt[1]:effekt[2]+1] # beteiligte leds in buffer laden\n",
        "        #print(buf)\n",
        "        if effekt[0] == \"schiebe\":\n",
        "            if effekt[4] == 1: # nach rechts\n",
        "                buf = buf[-effekt[3]:] + buf[:-effekt[3]]\n",
        "            elif effekt[4] == 2: # nach links\n",
        "                buf = buf[effekt[3]:] + buf[:effekt[3]]\n",
        "        effekt[5] = effekt[5] + effekt[3] # naechster schritt\n",
        "        if effekt[5] == effekt[6]: # durchgelaufen, leds aus? (ACHTUNG: DAS IST 1 ZU FRUEH!!!!)\n",
        "             finished.append(n)\n",
        "             buf = [0 for _ in range(len(buf))] # leds aus wenn fertig\n",
        "        leds = leds[:effekt[1]] + buf + leds[effekt[2]+1:]\n",
        "    for index in reversed(finished): # rueckwaerts, weil sonst der index nach vorne verschoben wird\n",
        "        del effekte_buffer[index]\n",
        "\n",
        "\n",
        "\n",
        "\n",
        "\n",
        "\n",
        "# ausgangslage\n",
        "print(leds, len(leds))\n",
        "\n",
        "# komet starten\n",
        "start_muster(0, 0, 10)\n",
        "start_muster(0, 20, 34)\n",
        "\n",
        "#print(effekte_buffer)\n",
        "print(leds, len(leds))\n",
        "\n",
        "# laufen lassen\n",
        "for n in range(30): # 10 schritte\n",
        "    if n == 8: # muster zwischendrinn starten\n",
        "        start_muster(0, 10, 20) # pruefen, ob bereich mit laufendem muster ueberlappt\n",
        "    elif n == 15: # muster zwischendrinn starten\n",
        "        start_muster(1, 0, 20) # pruefen, ob bereich mit laufendem muster ueberlappt\n",
        "    elif n == 20: # muster zwischendrinn starten\n",
        "        start_muster(2, 21, 34) # pruefen, ob bereich mit laufendem muster ueberlappt\n",
        "    effekte_ausfueren()\n",
        "    print(leds, len(leds))"
      ],
      "execution_count": 0,
      "outputs": []
    }
  ]
}