{
  "nbformat": 4,
  "nbformat_minor": 0,
  "metadata": {
    "colab": {
      "name": "AnimationZuBits.ipynb",
      "provenance": [],
      "collapsed_sections": [],
      "include_colab_link": true
    },
    "kernelspec": {
      "name": "python3",
      "display_name": "Python 3"
    }
  },
  "cells": [
    {
      "cell_type": "markdown",
      "metadata": {
        "id": "view-in-github",
        "colab_type": "text"
      },
      "source": [
        "<a href=\"https://colab.research.google.com/github/MxFxM/ColabCodes/blob/master/AnimationZuBits.ipynb\" target=\"_parent\"><img src=\"https://colab.research.google.com/assets/colab-badge.svg\" alt=\"Open In Colab\"/></a>"
      ]
    },
    {
      "cell_type": "code",
      "metadata": {
        "id": "Hg2hTHtR-8sX",
        "colab_type": "code",
        "cellView": "form",
        "colab": {}
      },
      "source": [
        "#@title OLD\n",
        "from google.colab import drive\n",
        "drive.mount('/content/gdrive')\n",
        "\n",
        "import cv2\n",
        "from google.colab.patches import cv2_imshow\n",
        "\n",
        "import numpy as np\n",
        "\n",
        "ANIMATION_NAME = \"meine_animation\"\n",
        "ZERO_PAD_TO = 32  # number of bits of leds\n",
        "DIRECTION = 0     # 0 or 1\n",
        "REPETITIONS = 1   # 1(0) to 255\n",
        "INVERT = 1        # 0 or 1\n",
        "BRIGHTNESS = 15   # 0 to 15\n",
        "DURATION = 140    # 0ms to 28000ms\n",
        "\n",
        "DURATION = int(DURATION / 10)\n",
        "print(\"Calc. duration:\", DURATION)\n",
        "\n",
        "img = cv2.imread(\"/content/gdrive/My Drive/Colab Notebooks/anim1.png\")\n",
        "cv2_imshow(img) # b, g, r values\n",
        "\n",
        "img = np.array(img)\n",
        "img = np.rot90(img)\n",
        "\n",
        "cv2_imshow(img)\n",
        "\n",
        "out = []\n",
        "\n",
        "length = len(img)\n",
        "\n",
        "out.append(\"0b{0}{1:07b}{2:08b}\".format(DIRECTION, length, REPETITIONS))\n",
        "\n",
        "for row in img:\n",
        "    musterstring = \"\"\n",
        "    for pixel in row:\n",
        "        if pixel[2] > 200:\n",
        "            musterstring += \"1\"\n",
        "        else:\n",
        "            musterstring += \"0\"\n",
        "    add = \"\"\n",
        "    for _ in range(ZERO_PAD_TO - len(musterstring)):\n",
        "        add += \"0\"\n",
        "    musterstring = add + musterstring\n",
        "    out.append(\"0b{0}{1:04b}{2:011b}\".format(INVERT, BRIGHTNESS, DURATION))\n",
        "    while musterstring != \"\":\n",
        "        out.append(\"0b\" + musterstring[0:16])\n",
        "        musterstring = musterstring[16::]\n",
        "\n",
        "# APPEND CRC TO OUT HERE\n",
        "out.append(\"0b0000000000000000\")\n",
        "\n",
        "ANIMATION_NAME = ANIMATION_NAME + \"[\" + str(len(out)) + \"]\"\n",
        "print(\"volatile uint16_t\", ANIMATION_NAME, \"= {\", end=\"\")\n",
        "for n, byte in enumerate(out):\n",
        "    if n != len(out) - 1:\n",
        "        byte = byte + \", \"\n",
        "    print(byte, end=\"\")\n",
        "print(\"};\")"
      ],
      "execution_count": 0,
      "outputs": []
    },
    {
      "cell_type": "code",
      "metadata": {
        "id": "lsW9DDo3FafT",
        "colab_type": "code",
        "outputId": "9257dea4-a954-4204-d9a4-26fd9e9ee9bc",
        "colab": {
          "base_uri": "https://localhost:8080/",
          "height": 146
        }
      },
      "source": [
        "from google.colab import drive\n",
        "drive.mount('/content/gdrive')\n",
        "\n",
        "import cv2\n",
        "from google.colab.patches import cv2_imshow\n",
        "\n",
        "import numpy as np\n",
        "\n",
        "ANIMATION_NAME = \"meine_animation\"\n",
        "ZERO_PAD_TO = 32  # number of bits of leds\n",
        "N_LEDS = 20       # number of leds\n",
        "DIRECTION = 0     # 0 or 1\n",
        "REPETITIONS = 1   # 1(0) to 255\n",
        "INVERT = 1        # 0 or 1\n",
        "BRIGHTNESS = 15   # 0 to 15\n",
        "DURATION = 500    # 0ms to 28000ms\n",
        "BOARD_VERSION = 1 # board version\n",
        "\n",
        "DURATION = int(DURATION / 10) # 1 bit = 10ms\n",
        "print(\"Calc. duration:\", DURATION)\n",
        "\n",
        "img = cv2.imread(\"/content/gdrive/My Drive/Colab Notebooks/anim1.png\")\n",
        "cv2_imshow(img) # b, g, r values\n",
        "\n",
        "img = np.array(img)\n",
        "img = np.rot90(img)\n",
        "\n",
        "cv2_imshow(img)\n",
        "\n",
        "out = []\n",
        "\n",
        "length = len(img)\n",
        "\n",
        "out.append(\"0b{0}{1:07b}{2:08b}\".format(DIRECTION, length, REPETITIONS))\n",
        "\n",
        "for row in img:\n",
        "    musterpix = []\n",
        "    for pixel in row:\n",
        "        if pixel[2] > 200: # red enough\n",
        "            musterpix.append('1')\n",
        "        else:\n",
        "            musterpix.append('0')\n",
        "    \n",
        "    musterstring = \"\"\n",
        "    rnge = ZERO_PAD_TO - len(musterpix)\n",
        "    for _ in range(rnge):\n",
        "        musterstring += '0'\n",
        "    \n",
        "    if BOARD_VERSION == 1 and N_LEDS == 20:\n",
        "        musterstring += musterpix[16] + musterpix[17] + musterpix[18] + musterpix[19] +\\\n",
        "                        musterpix[15] + musterpix[14] + musterpix[13] + musterpix[12] +\\\n",
        "                        musterpix[11] + musterpix[10] + musterpix[9]  + musterpix[8]  +\\\n",
        "                        musterpix[7]  + musterpix[6]  + musterpix[5]  + musterpix[4]  +\\\n",
        "                        musterpix[3]  + musterpix[2]  + musterpix[1]  + musterpix[0]\n",
        "    else:\n",
        "        for pix in musterpix:\n",
        "            musterstring += pix\n",
        "    \n",
        "    out.append(\"0b{0}{1:04b}{2:011b}\".format(INVERT, BRIGHTNESS, DURATION))\n",
        "    while musterstring != \"\":\n",
        "        out.append(\"0b\" + musterstring[0:16])\n",
        "        musterstring = musterstring[16::]\n",
        "\n",
        "# APPEND CRC TO OUT HERE\n",
        "out.append(\"0b0000000000000000\")\n",
        "\n",
        "ANIMATION_NAME = ANIMATION_NAME + \"[\" + str(len(out)) + \"]\"\n",
        "print(\"volatile uint16_t\", ANIMATION_NAME, \"= {\", end=\"\")\n",
        "for n, byte in enumerate(out):\n",
        "    if n != len(out) - 1:\n",
        "        byte = byte + \", \"\n",
        "    print(byte, end=\"\")\n",
        "print(\"};\")"
      ],
      "execution_count": 0,
      "outputs": [
        {
          "output_type": "stream",
          "text": [
            "Drive already mounted at /content/gdrive; to attempt to forcibly remount, call drive.mount(\"/content/gdrive\", force_remount=True).\n",
            "Calc. duration: 14\n"
          ],
          "name": "stdout"
        },
        {
          "output_type": "display_data",
          "data": {
            "image/png": "[encoded data removed]",
            "text/plain": [
              "<PIL.Image.Image image mode=RGB size=39x20 at 0x7F33723E65C0>"
            ]
          },
          "metadata": {
            "tags": []
          }
        },
        {
          "output_type": "display_data",
          "data": {
            "image/png": "[encoded data removed]",
            "text/plain": [
              "<PIL.Image.Image image mode=RGB size=20x39 at 0x7F33723E6080>"
            ]
          },
          "metadata": {
            "tags": []
          }
        },
        {
          "output_type": "stream",
          "text": [
            "volatile uint16_t meine_animation[119] = {0b0010011100000001, 0b1111100000001110, 0b0000000000000001, 0b0000000000000000, 0b1111100000001110, 0b0000000000000010, 0b0000000000000000, 0b1111100000001110, 0b0000000000000100, 0b0000000000000000, 0b1111100000001110, 0b0000000000001000, 0b0000000000000000, 0b1111100000001110, 0b0000000000000000, 0b1000000000000000, 0b1111100000001110, 0b0000000000000000, 0b0100000000000000, 0b1111100000001110, 0b0000000000000000, 0b0010000000000000, 0b1111100000001110, 0b0000000000000000, 0b0001000000000000, 0b1111100000001110, 0b0000000000000000, 0b0000100000000000, 0b1111100000001110, 0b0000000000000000, 0b0000010000000000, 0b1111100000001110, 0b0000000000000000, 0b0000011000000000, 0b1111100000001110, 0b0000000000000000, 0b0000111100000000, 0b1111100000001110, 0b0000000000000000, 0b0001111110000000, 0b1111100000001110, 0b0000000000000000, 0b0011111111000000, 0b1111100000001110, 0b0000000000000000, 0b0111111111100000, 0b1111100000001110, 0b0000000000000000, 0b1111111111110000, 0b1111100000001110, 0b0000000000001000, 0b1111111111111000, 0b1111100000001110, 0b0000000000001100, 0b1111111111111100, 0b1111100000001110, 0b0000000000001110, 0b1111111111111110, 0b1111100000001110, 0b0000000000001111, 0b1111111111111111, 0b1111100000001110, 0b0000000000001110, 0b1111111111111110, 0b1111100000001110, 0b0000000000001100, 0b1111111111111100, 0b1111100000001110, 0b0000000000001000, 0b1111111111111000, 0b1111100000001110, 0b0000000000000000, 0b1111111111110000, 0b1111100000001110, 0b0000000000000000, 0b0111111111100000, 0b1111100000001110, 0b0000000000000000, 0b0011111111000000, 0b1111100000001110, 0b0000000000000000, 0b0001111110000000, 0b1111100000001110, 0b0000000000000000, 0b0000111100000000, 0b1111100000001110, 0b0000000000000000, 0b0000011000000000, 0b1111100000001110, 0b0000000000000000, 0b0000001000000000, 0b1111100000001110, 0b0000000000000000, 0b0000000100000000, 0b1111100000001110, 0b0000000000000000, 0b0000000010000000, 0b1111100000001110, 0b0000000000000000, 0b0000000001000000, 0b1111100000001110, 0b0000000000000000, 0b0000000000100000, 0b1111100000001110, 0b0000000000000000, 0b0000000000010000, 0b1111100000001110, 0b0000000000000000, 0b0000000000001000, 0b1111100000001110, 0b0000000000000000, 0b0000000000000100, 0b1111100000001110, 0b0000000000000000, 0b0000000000000010, 0b1111100000001110, 0b0000000000000000, 0b0000000000000001, 0b0000000000000000};\n"
          ],
          "name": "stdout"
        }
      ]
    }
  ]
}